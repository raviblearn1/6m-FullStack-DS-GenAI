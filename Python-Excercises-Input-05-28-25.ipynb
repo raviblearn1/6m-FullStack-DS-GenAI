{
 "cells": [
  {
   "cell_type": "markdown",
   "id": "e54735d4-9783-4876-8656-037d6318a31d",
   "metadata": {},
   "source": [
    "## Python `input()` function Examples\n",
    "```\n",
    "Date : 5/28/2025"
   ]
  },
  {
   "cell_type": "markdown",
   "id": "f443f9ea-4ff0-4a6c-b1cc-55f9e020e802",
   "metadata": {},
   "source": [
    "#### 1. What is the `input()` function in Python used for?\n",
    "\n",
    "`Ans:` In Python, `input()` function is used to receive user input from console"
   ]
  },
  {
   "cell_type": "markdown",
   "id": "6ac1cd4a-8dca-4eda-a294-2ac736fc7736",
   "metadata": {},
   "source": [
    "#### 2. How can you accept an integer as input from the user using input()?\n",
    "   \n",
    "`Ans:` Bydefault, user input value through `input()` function store as string value and that needs to be casted to `int` to use further in number calculations. \n",
    "\n",
    "``` python\n",
    "   x = int (input('Enter a value')) # it accept user input value (as string) and convert to integer\n",
    "```\n",
    "\n"
   ]
  },
  {
   "cell_type": "code",
   "execution_count": 16,
   "id": "c77ed211-42e4-4524-9472-2514eeb874b9",
   "metadata": {},
   "outputs": [
    {
     "name": "stdin",
     "output_type": "stream",
     "text": [
      "Enter a value 10\n"
     ]
    }
   ],
   "source": [
    "x = int (input('Enter a value')) # it accept user input value (as string) and convert to integer"
   ]
  },
  {
   "cell_type": "code",
   "execution_count": 17,
   "id": "e8cbb73c-a198-4a60-a225-f3c1f726ff78",
   "metadata": {},
   "outputs": [
    {
     "data": {
      "text/plain": [
       "(int, 10)"
      ]
     },
     "execution_count": 17,
     "metadata": {},
     "output_type": "execute_result"
    }
   ],
   "source": [
    "type(x), x"
   ]
  },
  {
   "cell_type": "markdown",
   "id": "78b7768c-7e67-4be8-a667-a95630495d08",
   "metadata": {},
   "source": [
    "#### 3. How do you accept a float input from the user?\n",
    "   \n",
    "`Ans:` Bydefault, user input value through `input()` function store as string value and that needs to be casted to `float` using `float()` function to use further in number calculations. "
   ]
  },
  {
   "cell_type": "code",
   "execution_count": 11,
   "id": "528e955f-c990-4d36-a001-54eb929010b3",
   "metadata": {},
   "outputs": [
    {
     "name": "stdin",
     "output_type": "stream",
     "text": [
      "Enter a float value 25.32\n"
     ]
    }
   ],
   "source": [
    "x=input('Enter a float value')"
   ]
  },
  {
   "cell_type": "code",
   "execution_count": 12,
   "id": "cac25e14-93a2-4f82-940d-540e7dc6de17",
   "metadata": {},
   "outputs": [
    {
     "data": {
      "text/plain": [
       "(str, '25.32')"
      ]
     },
     "execution_count": 12,
     "metadata": {},
     "output_type": "execute_result"
    }
   ],
   "source": [
    "type(x), x"
   ]
  },
  {
   "cell_type": "code",
   "execution_count": 13,
   "id": "df64bcf2-eefc-4b20-9428-228cc878ce33",
   "metadata": {},
   "outputs": [],
   "source": [
    "x=float(x)"
   ]
  },
  {
   "cell_type": "code",
   "execution_count": 14,
   "id": "43ca4cad-cfc2-4310-a894-0274fe9696a3",
   "metadata": {},
   "outputs": [
    {
     "data": {
      "text/plain": [
       "(float, 25.32)"
      ]
     },
     "execution_count": 14,
     "metadata": {},
     "output_type": "execute_result"
    }
   ],
   "source": [
    "type(x), x"
   ]
  },
  {
   "cell_type": "markdown",
   "id": "c836330b-84d8-466e-ab1b-133158dd7f90",
   "metadata": {},
   "source": [
    "#### 4. How can you take multiple space-separated values as input?\n",
    "\n",
    "Ans: `input()` function accept user input till user press Enter from keyboard. If user input a string with spaces to pass multiple value .. that is possible. In that case, we accept input as string and split it to multiple values based on space(' ') entered as separator"
   ]
  },
  {
   "cell_type": "code",
   "execution_count": 18,
   "id": "af65d6ae-ae12-40d9-b4c2-27e17c6cf736",
   "metadata": {},
   "outputs": [
    {
     "name": "stdin",
     "output_type": "stream",
     "text": [
      "Enter multiple values separate by spaces : 10 20 30 40\n"
     ]
    }
   ],
   "source": [
    "input_string = input('Enter multiple values separate by spaces :')\n",
    "input_values = input_string.split(' ')"
   ]
  },
  {
   "cell_type": "code",
   "execution_count": 20,
   "id": "7fe3447f-a275-4139-868c-8094e0d5ef5c",
   "metadata": {},
   "outputs": [
    {
     "data": {
      "text/plain": [
       "('10 20 30 40', ['10', '20', '30', '40'])"
      ]
     },
     "execution_count": 20,
     "metadata": {},
     "output_type": "execute_result"
    }
   ],
   "source": [
    "input_string, input_values"
   ]
  },
  {
   "cell_type": "markdown",
   "id": "6a45a6b9-0e63-4ae6-b08f-9d9b1a5c9967",
   "metadata": {},
   "source": [
    "#### 5. How do you check if a number entered by the user is positive, negative, or zero?\n",
    "\n",
    "`Ans:` User input string must be converted to number before compare. If number is >0 then \"positive\", if number < 0 then 'negative' else it will be 'zero'"
   ]
  },
  {
   "cell_type": "code",
   "execution_count": 35,
   "id": "310ceab7-78bd-46d7-ae78-b45e43622d0a",
   "metadata": {},
   "outputs": [
    {
     "name": "stdin",
     "output_type": "stream",
     "text": [
      "Enter a number with sign 15\n"
     ]
    },
    {
     "name": "stdout",
     "output_type": "stream",
     "text": [
      "15 is positive\n"
     ]
    }
   ],
   "source": [
    " #  program to check given number - positive, negative or zero \n",
    "\n",
    "input_value = int(input('Enter a number with sign'))\n",
    "if (input_value >0):\n",
    "    print(f'{input_value} is positive')\n",
    "elif (input_value < 0):\n",
    "    print(f'{input_value} is negative')\n",
    "else:\n",
    "    print(f'{input_value} is zero')"
   ]
  },
  {
   "cell_type": "markdown",
   "id": "84f9a9aa-2600-4a57-af25-32c7a68ccddb",
   "metadata": {},
   "source": [
    "#### 6. How do you convert user input to a list of integers?\n"
   ]
  },
  {
   "cell_type": "code",
   "execution_count": 43,
   "id": "49cf832c-fff9-4017-862b-a2095df8c640",
   "metadata": {},
   "outputs": [
    {
     "name": "stdin",
     "output_type": "stream",
     "text": [
      "Enter multiple values separate by spaces : 10 20 30\n"
     ]
    },
    {
     "data": {
      "text/plain": [
       "'10 20 30'"
      ]
     },
     "execution_count": 43,
     "metadata": {},
     "output_type": "execute_result"
    }
   ],
   "source": [
    "# program to convert user input to a list of integers \n",
    "input_string = input('Enter multiple values separate by spaces :')  # bydefault it will be treated a string.  \n",
    "# String with spaces while accepting multiple values will throw an error if we use int() function\n",
    "# So, we will accept values entered as string to variable and split by separator - space(' ')\n",
    "\n",
    "input_string"
   ]
  },
  {
   "cell_type": "code",
   "execution_count": 46,
   "id": "9fd924b1-0f56-4e5f-9d9f-4beee0302a34",
   "metadata": {},
   "outputs": [
    {
     "data": {
      "text/plain": [
       "('10 20 30', ['10', '20', '30'])"
      ]
     },
     "execution_count": 46,
     "metadata": {},
     "output_type": "execute_result"
    }
   ],
   "source": [
    "# Conert string to multiple small strings by removing spaces\n",
    "input_values = input_string.split(' ')\n",
    "input_string, input_values"
   ]
  },
  {
   "cell_type": "code",
   "execution_count": 49,
   "id": "fd8580da-18da-4b23-b904-adbd7ffb006f",
   "metadata": {},
   "outputs": [
    {
     "data": {
      "text/plain": [
       "[10, 20, 30]"
      ]
     },
     "execution_count": 49,
     "metadata": {},
     "output_type": "execute_result"
    }
   ],
   "source": [
    "# Now, conert list of string to integers using loop \n",
    "for idx,value in enumerate(input_values):\n",
    "    input_values[idx]=int(value) \n",
    "input_values"
   ]
  },
  {
   "cell_type": "code",
   "execution_count": 51,
   "id": "6c09b639-714b-442d-9c0b-2583769330ca",
   "metadata": {},
   "outputs": [
    {
     "name": "stdout",
     "output_type": "stream",
     "text": [
      "10 <class 'int'>\n",
      "20 <class 'int'>\n",
      "30 <class 'int'>\n"
     ]
    }
   ],
   "source": [
    "# check datatypes \n",
    "for i in input_values: \n",
    "    print(i, type(i))"
   ]
  },
  {
   "cell_type": "markdown",
   "id": "66f9032d-d2aa-4b87-85d1-282999eba896",
   "metadata": {},
   "source": [
    "#### 7. How do you accept a string input and print it in uppercase?\n"
   ]
  },
  {
   "cell_type": "code",
   "execution_count": 52,
   "id": "6c610eb2-44d4-495a-8941-7fab09d31d2c",
   "metadata": {},
   "outputs": [
    {
     "name": "stdin",
     "output_type": "stream",
     "text": [
      "Enter any string value  My name is Master\n"
     ]
    },
    {
     "name": "stdout",
     "output_type": "stream",
     "text": [
      "MY NAME IS MASTER\n"
     ]
    }
   ],
   "source": [
    "## Accept string input and print it in uppercase \n",
    "input_string = input('Enter any string value')\n",
    "input_string\n",
    "print(input('Enter any string value ').upper())"
   ]
  },
  {
   "cell_type": "markdown",
   "id": "98eb4be9-6499-463b-9b06-0d46db1015d1",
   "metadata": {},
   "source": [
    "#### 8. Write a Python program that accepts a string and prints the number of vowels in it.\n"
   ]
  },
  {
   "cell_type": "code",
   "execution_count": 60,
   "id": "259b89f9-ae8c-4f32-a115-fbb810fe5078",
   "metadata": {},
   "outputs": [
    {
     "name": "stdin",
     "output_type": "stream",
     "text": [
      "Enter a string apple is sweet \n"
     ]
    },
    {
     "name": "stdout",
     "output_type": "stream",
     "text": [
      " Total 5 vowels found in given string \"apple is sweet \"\n"
     ]
    }
   ],
   "source": [
    "input_string = input('Enter a string')\n",
    "count=0\n",
    "for c in input_string:\n",
    "    if ( c.upper() in ('A','E','I','O','U')):\n",
    "        count +=1\n",
    "print (f' Total {count} vowels found in given string \"{input_string}\"')"
   ]
  },
  {
   "cell_type": "markdown",
   "id": "0e595944-ce32-4d61-8b11-580dd2ddd4fd",
   "metadata": {},
   "source": [
    "#### 9. Write a program that takes a number as input and checks if it is even or odd.\n"
   ]
  },
  {
   "cell_type": "code",
   "execution_count": 63,
   "id": "30350c24-3d04-4c04-8d28-78acc5a14f15",
   "metadata": {},
   "outputs": [
    {
     "name": "stdin",
     "output_type": "stream",
     "text": [
      "Enter a number : 9\n"
     ]
    },
    {
     "name": "stdout",
     "output_type": "stream",
     "text": [
      "9 is odd\n"
     ]
    }
   ],
   "source": [
    "given_number = int(input('Enter a number :'))\n",
    "if ((given_number%2)==0):\n",
    "    print(f'{given_number} is even')\n",
    "else:\n",
    "    print(f'{given_number} is odd')"
   ]
  },
  {
   "cell_type": "markdown",
   "id": "7f06e79f-b578-4435-bc83-9e0482cb35be",
   "metadata": {},
   "source": [
    "#### 10. How would you check if a string is a palindrome using input()?\n",
    "\"Polidrome\" is a term used for those strings prounounce same even if they are reserved "
   ]
  },
  {
   "cell_type": "code",
   "execution_count": 69,
   "id": "305eaf0d-c4f5-4653-9c49-11cf7a670a27",
   "metadata": {},
   "outputs": [
    {
     "name": "stdin",
     "output_type": "stream",
     "text": [
      "Enter a String to check polindrome  mapple\n"
     ]
    },
    {
     "name": "stdout",
     "output_type": "stream",
     "text": [
      "Given string \"mapple\" and reversed string \"elppam\" are not same. Not Polindrome\n"
     ]
    }
   ],
   "source": [
    "polindrome_string = input(\"Enter a String to check polindrome \")\n",
    "if (polindrome_string == polindrome_string[::-1]): \n",
    "    print(f'Given string \"{polindrome_string}\" and reversed string \"{polindrome_string[::-1]}\" are same. Polindrome')\n",
    "else:\n",
    "    print(f'Given string \"{polindrome_string}\" and reversed string \"{polindrome_string[::-1]}\" are not same. Not Polindrome') "
   ]
  },
  {
   "cell_type": "markdown",
   "id": "1bdbbe2b-e518-4060-a32e-b3d9ea9c5e99",
   "metadata": {},
   "source": [
    "#### 11. Write a program that takes a number as input and prints its square.\n"
   ]
  },
  {
   "cell_type": "code",
   "execution_count": 75,
   "id": "4e4212aa-c9d5-4e37-87da-b7b2cfd5126b",
   "metadata": {},
   "outputs": [
    {
     "name": "stdin",
     "output_type": "stream",
     "text": [
      "Enter a number to square : 10\n"
     ]
    },
    {
     "name": "stdout",
     "output_type": "stream",
     "text": [
      "Given number: 10 and square of given number :100\n"
     ]
    }
   ],
   "source": [
    "input_value=int(input('Enter a number to square :'))\n",
    "print(f'Given number: {input_value} and square of given number :{input_value**2}')\n",
    "            "
   ]
  },
  {
   "cell_type": "markdown",
   "id": "a4100bf1-f93c-44cd-941c-4c434c75fb38",
   "metadata": {},
   "source": [
    "#### 12. Write a program that asks for a number and prints whether it is divisible by 3.\n"
   ]
  },
  {
   "cell_type": "code",
   "execution_count": 80,
   "id": "34bb6960-c177-4c2f-87d7-ddd3f70a557d",
   "metadata": {},
   "outputs": [
    {
     "name": "stdin",
     "output_type": "stream",
     "text": [
      "Enter a number to check if divisible by 3 : 13\n"
     ]
    },
    {
     "name": "stdout",
     "output_type": "stream",
     "text": [
      "Given number 13 is not divisible by 3\n"
     ]
    }
   ],
   "source": [
    "input_number = int(input('Enter a number to check if divisible by 3 :'))\n",
    "if (input_number % 3 == 0):\n",
    "    print(f'Given number {input_number} divisible by 3')\n",
    "else:\n",
    "    print(f'Given number {input_number} is not divisible by 3')"
   ]
  },
  {
   "cell_type": "markdown",
   "id": "96a4ac9e-7343-4a0e-af49-cf90bd050832",
   "metadata": {},
   "source": [
    "#### 13. How would you check if a number is divisible by both 3 and 7?\n"
   ]
  },
  {
   "cell_type": "code",
   "execution_count": 83,
   "id": "a3fb4f62-f84d-4398-87d2-b4c1e52cee61",
   "metadata": {},
   "outputs": [
    {
     "name": "stdin",
     "output_type": "stream",
     "text": [
      "Enter a number to check if divisible by 3 and 7 : 14\n"
     ]
    },
    {
     "name": "stdout",
     "output_type": "stream",
     "text": [
      "Given number 14 is not divisible by 3 and 7\n"
     ]
    }
   ],
   "source": [
    "input_number = int(input('Enter a number to check if divisible by 3 and 7 :'))\n",
    "if ( (input_number % 3 == 0) and (input_number % 7 == 0)):\n",
    "    print(f'Given number {input_number} divisible by 3 and 7')\n",
    "else:\n",
    "    print(f'Given number {input_number} is not divisible by 3 and 7')"
   ]
  },
  {
   "cell_type": "markdown",
   "id": "036e8d74-78f3-47e3-91a9-834c2335d38e",
   "metadata": {},
   "source": [
    "#### 14. How do you accept a list of comma-separated values as input?\n",
    "\n",
    "Bydefault, `input()` function acceput user input as string until user press enter. So, user can input values separated by comma(,) as string and it stores with in given variable "
   ]
  },
  {
   "cell_type": "code",
   "execution_count": 84,
   "id": "83ab22e8-793e-4cde-a0f5-2febc7e93372",
   "metadata": {},
   "outputs": [
    {
     "name": "stdin",
     "output_type": "stream",
     "text": [
      "Enter comma separated values list  10,20,30,40,50\n"
     ]
    },
    {
     "data": {
      "text/plain": [
       "('10,20,30,40,50', str)"
      ]
     },
     "execution_count": 84,
     "metadata": {},
     "output_type": "execute_result"
    }
   ],
   "source": [
    "user_input = input('Enter comma separated values list ')\n",
    "user_input, type(user_input)"
   ]
  },
  {
   "cell_type": "markdown",
   "id": "3630b768-8862-4bfd-b5fd-4e1ec29c07d9",
   "metadata": {},
   "source": [
    "#### 15. Write a Python program that takes two numbers as input and prints their product.\n"
   ]
  },
  {
   "cell_type": "code",
   "execution_count": 85,
   "id": "113507d2-fbcf-45d4-82ed-cd3f39b3c2a1",
   "metadata": {},
   "outputs": [
    {
     "name": "stdin",
     "output_type": "stream",
     "text": [
      "Enter first number : 10\n",
      "Enter second number : 3\n"
     ]
    },
    {
     "name": "stdout",
     "output_type": "stream",
     "text": [
      " first number : 10 x Second Number : 3 = 30\n"
     ]
    }
   ],
   "source": [
    "first_number = int(input('Enter first number :'))\n",
    "second_number = int(input('Enter second number :'))\n",
    "print(f' first number : {first_number} x Second Number : {second_number} = {first_number * second_number}')"
   ]
  },
  {
   "cell_type": "markdown",
   "id": "7f25f9b6-6f6b-4f58-a8d5-a6e650cd49ec",
   "metadata": {},
   "source": [
    "#### 16. Write a program that checks if the input number is a prime number.\n"
   ]
  },
  {
   "cell_type": "code",
   "execution_count": 90,
   "id": "79643405-643f-47a2-8bf2-0f443f8445a7",
   "metadata": {},
   "outputs": [
    {
     "name": "stdin",
     "output_type": "stream",
     "text": [
      "Enter a number to check prime 5\n"
     ]
    },
    {
     "name": "stdout",
     "output_type": "stream",
     "text": [
      "given number 5 is prime\n"
     ]
    }
   ],
   "source": [
    "input_prime = int(input('Enter a number to check prime'))\n",
    "is_prime=1  # false \n",
    "x=2 \n",
    "if (input_prime <= 2): \n",
    "    print(f'given number {input_prime} is not prime')\n",
    "else:\n",
    "    while (x <= int(input_prime/2)):\n",
    "        if(input_prime%x == 0):\n",
    "            break\n",
    "        else:\n",
    "            x+=1\n",
    "    if(is_prime==1):\n",
    "        print(f'given number {input_prime} is prime')\n",
    "    else:\n",
    "        print(f'given number {input_prime} is not prime')"
   ]
  },
  {
   "cell_type": "markdown",
   "id": "ceae0f78-cb35-4c6d-acfb-a3377434636f",
   "metadata": {},
   "source": [
    "#### 17. How can you accept a boolean value (True/False) from the user?\n",
    "\n",
    "`Ans:` Boolean value in Python represented with one of value :  Nothing or Something. \n",
    "Nothing is represented as '0' and Something represented as '1'. \n",
    "\n",
    "You can instruct user to choose value (1 - Yes, 0 - No). Depends on value enter 0 or 1, we can translate to boolean values. \n"
   ]
  },
  {
   "cell_type": "code",
   "execution_count": 96,
   "id": "5d04a47d-86d6-443d-841b-e824d59c3745",
   "metadata": {},
   "outputs": [
    {
     "data": {
      "text/plain": [
       "(False, True, True, False)"
      ]
     },
     "execution_count": 96,
     "metadata": {},
     "output_type": "execute_result"
    }
   ],
   "source": [
    "bool(0), bool(1), bool(' '), bool()"
   ]
  },
  {
   "cell_type": "markdown",
   "id": "ba25fbde-314a-4141-acec-008562b9ce21",
   "metadata": {},
   "source": [
    "#### 18. Write a program that accepts a string and prints the reverse of that string.\n"
   ]
  },
  {
   "cell_type": "code",
   "execution_count": 102,
   "id": "db2359af-1be5-4474-94ae-0b463987f108",
   "metadata": {},
   "outputs": [
    {
     "name": "stdin",
     "output_type": "stream",
     "text": [
      "Enter string to reverse Histogram\n"
     ]
    },
    {
     "name": "stdout",
     "output_type": "stream",
     "text": [
      "Given String:Histogram\n",
      "Reverse String:margotsiH\n"
     ]
    }
   ],
   "source": [
    "# Option 1:  using Slice operator \n",
    "input_string_before_reverse = input('Enter string to reverse') \n",
    "#input_string_before_reverse\n",
    "input_string_after_reverse = input_string_before_reverse[::-1]\n",
    "#input_string_after_reverse\n",
    "\n",
    "print(f'Given String:{input_string_before_reverse}')\n",
    "print(f'Reverse String:{input_string_after_reverse}')"
   ]
  },
  {
   "cell_type": "code",
   "execution_count": 105,
   "id": "1530a7c9-8f09-4f56-8a60-b067ee911438",
   "metadata": {},
   "outputs": [
    {
     "name": "stdin",
     "output_type": "stream",
     "text": [
      "Enter string to reverse mahesh\n"
     ]
    },
    {
     "data": {
      "text/plain": [
       "'hseham'"
      ]
     },
     "execution_count": 105,
     "metadata": {},
     "output_type": "execute_result"
    }
   ],
   "source": [
    "# Option 1:  using Slice operator with start postion from end of string (using backtracking)\n",
    "input_string_before_reverse = input('Enter string to reverse') \n",
    "input_string_before_reverse[-1::-1]"
   ]
  },
  {
   "cell_type": "markdown",
   "id": "e6e874aa-9f3a-4309-967f-088e26258cdd",
   "metadata": {},
   "source": [
    "#### 19. Write a program that asks for a user's name and age and prints a message.\n"
   ]
  },
  {
   "cell_type": "code",
   "execution_count": 106,
   "id": "e51eb3be-cf90-429a-80a9-5881a2dc885e",
   "metadata": {},
   "outputs": [
    {
     "name": "stdin",
     "output_type": "stream",
     "text": [
      "Enter your name:  Jr. Dhoni\n",
      "Enter your age:  35\n"
     ]
    },
    {
     "name": "stdout",
     "output_type": "stream",
     "text": [
      "Your name :Jr. Dhoni\n",
      " Your age :35\n"
     ]
    }
   ],
   "source": [
    "input_user_name = input('Enter your name: ')\n",
    "input_user_age = int(input('Enter your age: '))\n",
    "print(f'Your name :{input_user_name}\\n Your age :{input_user_age}')"
   ]
  },
  {
   "cell_type": "markdown",
   "id": "9c94f411-a99b-4cd0-9565-8ed96de3a51f",
   "metadata": {},
   "source": [
    "#### 20. Write a program to calculate the factorial of a number using input().\n"
   ]
  },
  {
   "cell_type": "code",
   "execution_count": 107,
   "id": "2a816315-3170-4218-8705-0f4f10edfbeb",
   "metadata": {},
   "outputs": [],
   "source": [
    "import math"
   ]
  },
  {
   "cell_type": "code",
   "execution_count": 109,
   "id": "a26ad22d-fad1-4995-90a6-d88bca0f8b6f",
   "metadata": {},
   "outputs": [
    {
     "name": "stdin",
     "output_type": "stream",
     "text": [
      "Enter number for factorial: 5\n"
     ]
    },
    {
     "name": "stdout",
     "output_type": "stream",
     "text": [
      "Factorial of given 5 is :120\n"
     ]
    }
   ],
   "source": [
    "# Option 1 - Using math function \n",
    "from math import factorial\n",
    "\n",
    "print('Factorial using math.factorial() function .. ')\n",
    "input_num_for_factorial = int(input('Enter number for factorial:'))\n",
    "print(f'Factorial of given {input_num_for_factorial} is :{factorial(input_num_for_factorial)}')"
   ]
  },
  {
   "cell_type": "code",
   "execution_count": 113,
   "id": "95fcbc16-5ca2-4cba-ba6d-8c193e589631",
   "metadata": {},
   "outputs": [
    {
     "name": "stdin",
     "output_type": "stream",
     "text": [
      "Enter number for factorial: 5\n"
     ]
    },
    {
     "name": "stdout",
     "output_type": "stream",
     "text": [
      "Factorial of given 5 is :120\n"
     ]
    }
   ],
   "source": [
    "# Option 2 - using function \n",
    "def nfactorial(n):\n",
    "    f=1\n",
    "    if ( (n==0) or (n==1)): \n",
    "        f=1\n",
    "    else:\n",
    "        for i in range(1,n+1):\n",
    "           f*=i\n",
    "    return f\n",
    "\n",
    "print('Factorial using Function .. ')\n",
    "input_num_for_factorial2 = int(input('Enter number for factorial:'))\n",
    "print(f'Factorial of given {input_num_for_factorial2} is :{nfactorial(input_num_for_factorial2)}')"
   ]
  },
  {
   "cell_type": "code",
   "execution_count": 118,
   "id": "4c1cbe18-69b9-4edf-8e76-cb378e6bfb57",
   "metadata": {},
   "outputs": [
    {
     "name": "stdout",
     "output_type": "stream",
     "text": [
      "Factorial using Recursive Function .. \n"
     ]
    },
    {
     "name": "stdin",
     "output_type": "stream",
     "text": [
      "Enter number for factorial: 3\n"
     ]
    },
    {
     "name": "stdout",
     "output_type": "stream",
     "text": [
      "Factorial of given 3 is :6\n"
     ]
    }
   ],
   "source": [
    "# Option 3 - using recursive function \n",
    "def recfactorial(n):\n",
    "    \n",
    "    if ( (n==0) or (n==1)): \n",
    "        return 1\n",
    "    else:\n",
    "        return(n*recfactorial(n-1))\n",
    "\n",
    "print('Factorial using Recursive Function .. ')\n",
    "input_num_for_factorial3 = int(input('Enter number for factorial:'))\n",
    "print(f'Factorial of given {input_num_for_factorial3} is :{nfactorial(input_num_for_factorial3)}')"
   ]
  },
  {
   "cell_type": "markdown",
   "id": "ca04ee41-50d7-4840-b5e7-7edb76baef55",
   "metadata": {},
   "source": [
    "#### 21. How do you prevent a user from entering an empty string?\n",
    "\n",
    "User input captured to memory till user press 'Enter' key.  If user by mistakenly press 'Enter' as first key.. no input data will be captured to memory and our program logic won't work. \n",
    "\n",
    "One way to process is using - `len(input())` i.e length of input text. If the `len()` > 0 characters, we will ask use to repeat till a value enterd. "
   ]
  },
  {
   "cell_type": "code",
   "execution_count": 158,
   "id": "10f249cc-7dce-4c34-805a-6658c2eee1d8",
   "metadata": {},
   "outputs": [
    {
     "name": "stdin",
     "output_type": "stream",
     "text": [
      "Enter a value : \n"
     ]
    },
    {
     "name": "stdout",
     "output_type": "stream",
     "text": [
      "No value entered\n"
     ]
    },
    {
     "name": "stdin",
     "output_type": "stream",
     "text": [
      "Enter a value : \n"
     ]
    },
    {
     "name": "stdout",
     "output_type": "stream",
     "text": [
      "No value entered\n"
     ]
    },
    {
     "name": "stdin",
     "output_type": "stream",
     "text": [
      "Enter a value : \n"
     ]
    },
    {
     "name": "stdout",
     "output_type": "stream",
     "text": [
      "No value entered\n"
     ]
    },
    {
     "name": "stdin",
     "output_type": "stream",
     "text": [
      "Enter a value : 5\n"
     ]
    },
    {
     "name": "stdout",
     "output_type": "stream",
     "text": [
      "you have entered 5\n"
     ]
    }
   ],
   "source": [
    "while True: \n",
    "    input_val = input('Enter a value :') \n",
    "    if (len(input_val)>0):\n",
    "        break; \n",
    "    else:\n",
    "        print('No value entered')\n",
    "        continue\n",
    "print(f'you have entered {input_val}')"
   ]
  },
  {
   "cell_type": "code",
   "execution_count": 159,
   "id": "9f3c5353-9e9f-43d2-82a2-62dc7997024c",
   "metadata": {},
   "outputs": [
    {
     "name": "stdin",
     "output_type": "stream",
     "text": [
      "Enter a value :  \n"
     ]
    },
    {
     "data": {
      "text/plain": [
       "True"
      ]
     },
     "execution_count": 159,
     "metadata": {},
     "output_type": "execute_result"
    }
   ],
   "source": [
    "input_val = input('Enter a value :') \n",
    "bool(input_val)"
   ]
  },
  {
   "cell_type": "markdown",
   "id": "62d239f7-f2bd-4862-8567-6850d98e1465",
   "metadata": {},
   "source": [
    "#### 22. Write a program to check if the entered number is a perfect square.\n",
    "\n",
    "If a number is perfect square is :  (square root of given number) by power of 2 \n",
    "\n",
    "Example:  4 is pefect square of 2. ie.  4 = 2**2 \n"
   ]
  },
  {
   "cell_type": "code",
   "execution_count": 153,
   "id": "cde463b5-6635-4060-b465-960b272bd946",
   "metadata": {},
   "outputs": [
    {
     "name": "stdin",
     "output_type": "stream",
     "text": [
      "Enter number to check perfect square: 16\n"
     ]
    },
    {
     "name": "stdout",
     "output_type": "stream",
     "text": [
      "16 4.0 16.0\n",
      "Perfect square\n"
     ]
    }
   ],
   "source": [
    "import math\n",
    "\n",
    "input_chk_for_square = int(input('Enter number to check perfect square:'))\n",
    "print(input_chk_for_square, math.sqrt(input_chk_for_square), math.sqrt(input_chk_for_square)**2)\n",
    "if (input_chk_for_square==int(math.sqrt(input_chk_for_square))**2):\n",
    "    print('Perfect square')\n",
    "else:\n",
    "    print('Not a perfect square')"
   ]
  },
  {
   "cell_type": "markdown",
   "id": "8b4ac9be-834b-4a00-b5e9-c477cb5a7881",
   "metadata": {},
   "source": [
    "#### 23. Write a program that asks for a year and determines if it's a leap year.\n",
    "\n",
    "Every leap year in calender value must be a divisible to number 4. i.e Leap year comes every 4 years once. \n"
   ]
  },
  {
   "cell_type": "code",
   "execution_count": 162,
   "id": "d38b5432-6f83-427f-a6df-7b0b6356842c",
   "metadata": {},
   "outputs": [
    {
     "name": "stdin",
     "output_type": "stream",
     "text": [
      "Enter year to check leap year or not : 2000\n"
     ]
    },
    {
     "name": "stdout",
     "output_type": "stream",
     "text": [
      "Year(2000) is a leap year\n"
     ]
    }
   ],
   "source": [
    "input_leap_year = int(input('Enter year to check leap year or not :'))\n",
    "if (input_leap_year%4==0):\n",
    "    print(f'Year({input_leap_year}) is a leap year')\n",
    "else:\n",
    "    print(f'Year({input_leap_year}) is a not leap year')"
   ]
  },
  {
   "cell_type": "markdown",
   "id": "21f6706f-eeed-458c-a516-80374ca6a7d8",
   "metadata": {},
   "source": [
    "#### 24. How can you remove leading and trailing spaces from a string input?\n"
   ]
  },
  {
   "cell_type": "code",
   "execution_count": 173,
   "id": "51db4221-4622-4754-b6c4-f83366e7dfda",
   "metadata": {},
   "outputs": [
    {
     "name": "stdin",
     "output_type": "stream",
     "text": [
      "Input raw string : Welcome    \n"
     ]
    },
    {
     "name": "stdout",
     "output_type": "stream",
     "text": [
      "Raw string provided: \"Welcome    \" has length of 11\n",
      "Cleaned string provided: \"Welcome\" has length of 7\n"
     ]
    }
   ],
   "source": [
    "input_raw_string = input('Input raw string :') \n",
    "print(f'Raw string provided: \"{input_raw_string}\" has length of {len(input_raw_string)}')\n",
    "print(f'Cleaned string provided: \"{input_raw_string.strip(' ')}\" has length of {len(input_raw_string.strip(' '))}')"
   ]
  },
  {
   "cell_type": "markdown",
   "id": "a0f37789-e26b-4d41-89ed-3c684b49c074",
   "metadata": {},
   "source": [
    "#### 25. How do you handle incorrect inputs when you expect an integer using input()?\n",
    "```\n",
    "We can use string.isdigit() function to verify if provided string can be typecasted to integer/number value or not. "
   ]
  },
  {
   "cell_type": "code",
   "execution_count": 325,
   "id": "4481275d-4666-493d-909d-cc7f151c4d14",
   "metadata": {},
   "outputs": [
    {
     "name": "stdin",
     "output_type": "stream",
     "text": [
      "Enter a number value : algorithm\n"
     ]
    },
    {
     "name": "stdout",
     "output_type": "stream",
     "text": [
      " Given string \"algorithm\" is not a valid integer value to cast to integer\n"
     ]
    }
   ],
   "source": [
    "input_valid_number_digits = input('Enter a number value :')\n",
    "if ( input_valid_number_digits.isdigit() == True ):\n",
    "    print(f' Given string \"{input_valid_number_digits}\" is a valid integer value to cast to integer')\n",
    "else:\n",
    "    print(f' Given string \"{input_valid_number_digits}\" is not a valid integer value to cast to integer')"
   ]
  },
  {
   "cell_type": "markdown",
   "id": "facd17d6-48d1-4314-a505-49c6e792a34e",
   "metadata": {},
   "source": [
    "#### 26. Write a program that accepts a string and counts the occurrence of a particular character.\n"
   ]
  },
  {
   "cell_type": "code",
   "execution_count": 186,
   "id": "d6943251-f2ee-4c9f-80a4-9f4cc9647157",
   "metadata": {},
   "outputs": [
    {
     "name": "stdin",
     "output_type": "stream",
     "text": [
      "Enter input string to check char occurances : Welcome\n"
     ]
    },
    {
     "name": "stdout",
     "output_type": "stream",
     "text": [
      "Characters in input string: ['W', 'e', 'l', 'c', 'o', 'm', 'e']\n"
     ]
    },
    {
     "name": "stdin",
     "output_type": "stream",
     "text": [
      "Enter search character : e\n"
     ]
    },
    {
     "name": "stdout",
     "output_type": "stream",
     "text": [
      " char[\"e\"] found 2 times in given string :Welcome \n"
     ]
    }
   ],
   "source": [
    "# Option 1 - Converting String to a tuple  \n",
    "input_string_for_char_count = input('Enter input string to check char occurances :')\n",
    "print(f'Characters in input string: {list(input_string_for_char_count)}')\n",
    "search_character = input('Enter search character :')\n",
    "print(f' char[\"{search_character}\"] found {tuple(input_string_for_char_count).count(search_character)} times in given string :{input_string_for_char_count} ')"
   ]
  },
  {
   "cell_type": "code",
   "execution_count": 193,
   "id": "38277014-b8fa-4a2f-bc11-078a14bc9a5e",
   "metadata": {},
   "outputs": [
    {
     "name": "stdin",
     "output_type": "stream",
     "text": [
      "Enter input string to check char occurances : welcome to frisco\n"
     ]
    },
    {
     "name": "stdout",
     "output_type": "stream",
     "text": [
      "Characters in input string: ['w', 'e', 'l', 'c', 'o', 'm', 'e', ' ', 't', 'o', ' ', 'f', 'r', 'i', 's', 'c', 'o']\n"
     ]
    },
    {
     "name": "stdin",
     "output_type": "stream",
     "text": [
      "Enter search character : o\n"
     ]
    },
    {
     "name": "stdout",
     "output_type": "stream",
     "text": [
      " char[\"o\"] found 3 times in given string :welcome to frisco \n"
     ]
    }
   ],
   "source": [
    "# Option 2 - Parsing string characters one by one to count \n",
    "input_string_for_char_count2 = input('Enter input string to check char occurances :')\n",
    "print(f'Characters in input string: {list(input_string_for_char_count2)}')\n",
    "search_character2 = input('Enter search character :')\n",
    "counter=0\n",
    "for ch in input_string_for_char_count2:\n",
    "    if (ch==search_character2):\n",
    "        counter+=1\n",
    "print(f' char[\"{search_character2}\"] found {counter} times in given string :{input_string_for_char_count2} ')\n"
   ]
  },
  {
   "cell_type": "markdown",
   "id": "4137352c-7b26-40b0-b79f-9a0df50e22a5",
   "metadata": {},
   "source": [
    "#### 27. How would you convert user input to lowercase using input()?\n",
    "\n"
   ]
  },
  {
   "cell_type": "code",
   "execution_count": 195,
   "id": "b48b0ce6-d51b-4b9c-8ad8-a9d91f2b26f5",
   "metadata": {},
   "outputs": [
    {
     "name": "stdin",
     "output_type": "stream",
     "text": [
      "Enter input string: hisTORY\n"
     ]
    },
    {
     "name": "stdout",
     "output_type": "stream",
     "text": [
      "history\n"
     ]
    }
   ],
   "source": [
    "print(input('Enter input string:').lower())"
   ]
  },
  {
   "cell_type": "markdown",
   "id": "62e59b2d-b494-4fc6-99ea-e55c9a8fcda6",
   "metadata": {},
   "source": [
    "#### 28. Write a program that accepts a number and prints whether it is a multiple of 10."
   ]
  },
  {
   "cell_type": "code",
   "execution_count": 199,
   "id": "b099b32a-ddf1-457d-bc5a-0d2b71aee295",
   "metadata": {},
   "outputs": [
    {
     "name": "stdin",
     "output_type": "stream",
     "text": [
      "Enter a value : 11\n"
     ]
    },
    {
     "name": "stdout",
     "output_type": "stream",
     "text": [
      "11 given value is not multiple of 10\n"
     ]
    }
   ],
   "source": [
    "# Option 1- using modulo(%) operator \n",
    "input_chk_val = int(input('Enter a value :'))\n",
    "if ( input_chk_val % 10 == 0):\n",
    "    print(f'{input_chk_val} given value is multiple of 10')\n",
    "else:\n",
    "    print(f'{input_chk_val} given value is not multiple of 10')"
   ]
  },
  {
   "cell_type": "code",
   "execution_count": 210,
   "id": "d1e07fbb-91a7-414e-8bfe-2baf659ad140",
   "metadata": {},
   "outputs": [
    {
     "name": "stdin",
     "output_type": "stream",
     "text": [
      "Enter a value : 30\n"
     ]
    },
    {
     "name": "stdout",
     "output_type": "stream",
     "text": [
      "30 given value is multiple of 10\n"
     ]
    }
   ],
   "source": [
    "# Option 2- using divisin operator \n",
    "input_chk_val = int(input('Enter a value :'))\n",
    "if ( input_chk_val == int((input_chk_val/10))*10 ):\n",
    "    print(f'{input_chk_val} given value is multiple of 10')\n",
    "else:\n",
    "    print(f'{input_chk_val} given value is not multiple of 10')"
   ]
  },
  {
   "cell_type": "markdown",
   "id": "35711703-1dbf-4d71-bb14-b207918fffd2",
   "metadata": {},
   "source": [
    "#### 29. How would you check if a string entered by the user contains only alphabets using input()?\n"
   ]
  },
  {
   "cell_type": "code",
   "execution_count": 213,
   "id": "29c8d9c1-d1e4-4d9a-a1d5-1c5d11dbd200",
   "metadata": {},
   "outputs": [
    {
     "name": "stdin",
     "output_type": "stream",
     "text": [
      "Enter a value Welcome 2025\n"
     ]
    },
    {
     "name": "stdout",
     "output_type": "stream",
     "text": [
      "Welcome 2025 contains more than alphabets\n"
     ]
    }
   ],
   "source": [
    "input_string_alphabet = input('Enter a value')\n",
    "if (input_string_alphabet.isalpha()):\n",
    "    print(f'{input_string_alphabet} only contains alphabets')\n",
    "else:\n",
    "    print(f'{input_string_alphabet} contains more than alphabets')"
   ]
  },
  {
   "cell_type": "markdown",
   "id": "563fa832-02c8-48a3-b25d-a625f7b87966",
   "metadata": {},
   "source": [
    "#### 30. Write a program to count the number of words in a sentence entered by the user."
   ]
  },
  {
   "cell_type": "code",
   "execution_count": 217,
   "id": "e75fd35d-90ad-4beb-889e-25d2d59a42f1",
   "metadata": {},
   "outputs": [
    {
     "name": "stdin",
     "output_type": "stream",
     "text": [
      "Enter a Sentense Write a program to count the number of words in a sentence entered by the user\n"
     ]
    },
    {
     "name": "stdout",
     "output_type": "stream",
     "text": [
      "\"Write a program to count the number of words in a sentence entered by the user\" has total 16 words\n"
     ]
    }
   ],
   "source": [
    "input_sentence_for_word_count = input('Enter a Sentense')\n",
    "print(f'\"{input_sentence_for_word_count}\" has total {len(input_sentence_for_word_count.split(' '))} words')"
   ]
  },
  {
   "cell_type": "markdown",
   "id": "cc074596-dd14-475a-b578-5c8c35d3d6f3",
   "metadata": {},
   "source": [
    "#### 31. How would you accept a date input from the user in Python?\n",
    "\n",
    "```\n",
    "Dates usually represented in two forms : `MDY (Month-Date-Year)`,`YMD (Year-Month-Date)`\n",
    "\n",
    "`MDY (Month-Date-Year)` - date format will be 'MM-DD-YYYY'\n",
    "`YMD (Year-Month-Date)` - date format will be 'YYYY-MM-DD'\n",
    "\n",
    "As such, there is no standard/built-in datatype exists in Python. All inputs are received as string and that needs to be converted to dates using available class modules.\n",
    "```\n",
    "Few modules that are helpful to handle date & time values :  `datetime`, `dateutil`\n",
    "\n",
    "```python\n",
    "    import datetime, dateutil  ## please explore various functions on how to handle. "
   ]
  },
  {
   "cell_type": "code",
   "execution_count": 338,
   "id": "71298f92-4a4e-4c4c-b549-e26f52d64984",
   "metadata": {},
   "outputs": [
    {
     "name": "stdin",
     "output_type": "stream",
     "text": [
      "Please enter date of join in YYYY-MM-DD format 2025-05-28\n"
     ]
    },
    {
     "name": "stdout",
     "output_type": "stream",
     "text": [
      "Given date value : 2025-05-28 \n",
      "\n"
     ]
    }
   ],
   "source": [
    "import datetime \n",
    "input_date_of_join = input('Please enter date of join in YYYY-MM-DD format') \n",
    "print(f'Given date value : {input_date_of_join} \\n')"
   ]
  },
  {
   "cell_type": "markdown",
   "id": "d9e3848d-0a14-46dd-83a8-d230f884f6c0",
   "metadata": {},
   "source": [
    "#### 32. Write a program that checks if the entered number is divisible by both 3 and 5.\n"
   ]
  },
  {
   "cell_type": "code",
   "execution_count": 227,
   "id": "bb1150e7-70c9-4c68-9bee-e1fe3de50280",
   "metadata": {},
   "outputs": [
    {
     "name": "stdin",
     "output_type": "stream",
     "text": [
      "Enter a number to check if divisible by 3 and 5 : 13\n"
     ]
    },
    {
     "name": "stdout",
     "output_type": "stream",
     "text": [
      "Given number 13 is not divisible by 3 and 5\n"
     ]
    }
   ],
   "source": [
    "input_number_div_check2 = int(input('Enter a number to check if divisible by 3 and 5 :'))\n",
    "if ( (input_number_div_check2 % 3 == 0) and (input_number_div_check2 % 5 == 0)):\n",
    "    print(f'Given number {input_number_div_check2} divisible by 3 and 5')\n",
    "else:\n",
    "    print(f'Given number {input_number_div_check2} is not divisible by 3 and 5')"
   ]
  },
  {
   "cell_type": "markdown",
   "id": "bf5a5de9-b337-48ba-a328-21158d159a68",
   "metadata": {},
   "source": [
    "#### 33. Write a program to swap the values of two variables using input().\n"
   ]
  },
  {
   "cell_type": "code",
   "execution_count": 230,
   "id": "a4650c0d-40fe-4729-af9d-a5c135308e3f",
   "metadata": {},
   "outputs": [
    {
     "name": "stdin",
     "output_type": "stream",
     "text": [
      "Enter 1st value: 13\n",
      "Enter 2nd value: 11\n"
     ]
    },
    {
     "name": "stdout",
     "output_type": "stream",
     "text": [
      " Before swapping:  first value = 13, second value = 11\n",
      " Before swapping:  first value = 11, second value = 13\n"
     ]
    }
   ],
   "source": [
    "# Option 1 - uisng 3rd variable \n",
    "input_1st_value = int(input('Enter 1st value:'))\n",
    "input_2nd_value = int(input('Enter 2nd value:'))\n",
    "print('Option 1 - uisng 3rd variable')\n",
    "print(f' Before swapping:  first value = {input_1st_value}, second value = {input_2nd_value}')\n",
    "temp_var = input_1st_value\n",
    "input_1st_value = input_2nd_value\n",
    "input_2nd_value = temp_var\n",
    "print(f' Before swapping:  first value = {input_1st_value}, second value = {input_2nd_value}')"
   ]
  },
  {
   "cell_type": "code",
   "execution_count": 229,
   "id": "049b83a5-279c-4430-9cf5-adf51e64cc6c",
   "metadata": {},
   "outputs": [
    {
     "name": "stdin",
     "output_type": "stream",
     "text": [
      "Enter 1st value: 4\n",
      "Enter 2nd value: 12\n"
     ]
    },
    {
     "name": "stdout",
     "output_type": "stream",
     "text": [
      " Before swapping:  first value = 4, second value = 12\n",
      " Before swapping:  first value = 12, second value = 4\n"
     ]
    }
   ],
   "source": [
    "# Option 2 - without using 3rd variable \n",
    "input_1st_value = int(input('Enter 1st value:'))\n",
    "input_2nd_value = int(input('Enter 2nd value:')) \n",
    "print('Option 2 - without using 3rd variable')\n",
    "print(f' Before swapping:  first value = {input_1st_value}, second value = {input_2nd_value}')\n",
    "input_1st_value,input_2nd_value = input_2nd_value, input_1st_value\n",
    "print(f' Before swapping:  first value = {input_1st_value}, second value = {input_2nd_value}')"
   ]
  },
  {
   "cell_type": "code",
   "execution_count": 231,
   "id": "77592bc9-989e-4723-b3a2-e0fc26291cbe",
   "metadata": {},
   "outputs": [
    {
     "name": "stdin",
     "output_type": "stream",
     "text": [
      "Enter 1st value: 5\n",
      "Enter 2nd value: 6\n"
     ]
    },
    {
     "name": "stdout",
     "output_type": "stream",
     "text": [
      "Option 3 - using positional parameters\n",
      " Before swapping:  first value = 5, second value = 6\n",
      " Before swapping:  first value = 6, second value = 5\n"
     ]
    }
   ],
   "source": [
    "# Option 3 - using positional parameters\n",
    "def swap_numbers(val1, val2):\n",
    "    return val2, val1; \n",
    "\n",
    "input_1st_value = int(input('Enter 1st value:'))\n",
    "input_2nd_value = int(input('Enter 2nd value:')) \n",
    "print('Option 3 - using positional parameters')\n",
    "print(f' Before swapping:  first value = {input_1st_value}, second value = {input_2nd_value}')\n",
    "input_1st_value,input_2nd_value = swap_numbers(input_1st_value,input_2nd_value)\n",
    "print(f' Before swapping:  first value = {input_1st_value}, second value = {input_2nd_value}')"
   ]
  },
  {
   "cell_type": "markdown",
   "id": "f401eda2-4d81-4e6f-bfa4-b76bfa865566",
   "metadata": {},
   "source": [
    "#### 34. Write a program to take user input and print it without spaces between words.\n",
    "```\n",
    "Step 1: Accept a sentence from user\n",
    "Step 2: Split string to words list based on space (' ')\n",
    "Step 3: Join these words list without spaces using `str.join()` method. Here `str` is blank hence blank will be added to each word. "
   ]
  },
  {
   "cell_type": "code",
   "execution_count": 238,
   "id": "9cdc3f71-73c3-4e93-8896-1daf358eb602",
   "metadata": {},
   "outputs": [
    {
     "name": "stdin",
     "output_type": "stream",
     "text": [
      "Enter a sentence  Write a program to take user input and print it without spaces between words\n"
     ]
    },
    {
     "name": "stdout",
     "output_type": "stream",
     "text": [
      "Given string:  Write a program to take user input and print it without spaces between words\n",
      "Words in given string:  ['Write', 'a', 'program', 'to', 'take', 'user', 'input', 'and', 'print', 'it', 'without', 'spaces', 'between', 'words']\n",
      "final string:  Writeaprogramtotakeuserinputandprintitwithoutspacesbetweenwords\n"
     ]
    }
   ],
   "source": [
    "input_str_to_remv_spaces = input('Enter a sentence ')\n",
    "input_str_words = input_str_to_remv_spaces.split(' ')\n",
    "print('Given string: ', input_str_to_remv_spaces)\n",
    "print('Words in given string: ', input_str_words)\n",
    "final_str_without_spaces = ''.join(input_str_words)\n",
    "print('final string: ', final_str_without_spaces)"
   ]
  },
  {
   "cell_type": "markdown",
   "id": "51bc07b5-5a14-4a6e-b684-66872bf08e6e",
   "metadata": {},
   "source": [
    "#### 35. How do you validate if an entered input is a valid email address?\n",
    "```\n",
    "Valid email address should be in form : <emailer-name>@<domain.com>\n",
    "<emailer-name> - should not contain any spaces. \n",
    "<domain.com> - should not contain any spces\n",
    "<domain.com> - should be from valid domains likes in, co, com, org, net, io etc.,\n"
   ]
  },
  {
   "cell_type": "code",
   "execution_count": 254,
   "id": "76b01293-99fe-4761-a968-4530b4d54ac3",
   "metadata": {},
   "outputs": [
    {
     "name": "stdin",
     "output_type": "stream",
     "text": [
      "Enter an email address for validation  info@info.co\n"
     ]
    },
    {
     "name": "stdout",
     "output_type": "stream",
     "text": [
      "info info.co\n",
      "co\n",
      "info@info.co is valid email\n"
     ]
    }
   ],
   "source": [
    "input_email_address = input('Enter an email address for validation ') \n",
    "is_valid_email=True \n",
    "if(len(input_email_address.split('@'))>2):\n",
    "    print(f'{input_email_address} is not a valid email address and it has more than 2 sections')\n",
    "    is_valid_email = False\n",
    "else:\n",
    "    emailer_name, domain_name = input_email_address.split('@')\n",
    "    #print( emailer_name, domain_name)\n",
    "    # Checking spaces if any on emailer-name \n",
    "    for ch in emailer_name:\n",
    "        if ( ch == ' '):\n",
    "            print(f'{input_email_address} is not a valid email address. It has spaces in emailer name')\n",
    "            is_valid_email = False\n",
    "            break\n",
    "    #print(domain_name.split('.')[1])\n",
    "    # Checking domain title \n",
    "    for ch in domain_name.split('.')[0]:\n",
    "        if ( ch == ' '):\n",
    "            print(f'{input_email_address} is not a valid email address. It has spaces in domain name')\n",
    "            is_valid_email = False\n",
    "            break\n",
    "    if domain_name.split('.')[1] not in ('in','org','com','io','co'):\n",
    "            print(f'{input_email_address} is not a valid email address. Invalid domain extension')\n",
    "            is_valid_email = False\n",
    "\n",
    "if is_valid_email :\n",
    "    print(f'{input_email_address} is valid email')\n"
   ]
  },
  {
   "cell_type": "markdown",
   "id": "a8b8f0b3-3fc3-4fca-a2fb-69833092f4a1",
   "metadata": {},
   "source": [
    "#### 36. Write a program that accepts a number and prints its cube.\n"
   ]
  },
  {
   "cell_type": "code",
   "execution_count": 255,
   "id": "8b3f1b18-04ea-4da8-b3d5-f7c0ba430070",
   "metadata": {},
   "outputs": [
    {
     "name": "stdin",
     "output_type": "stream",
     "text": [
      "Enter a number to generate cube of it: 3\n"
     ]
    },
    {
     "name": "stdout",
     "output_type": "stream",
     "text": [
      "27\n"
     ]
    }
   ],
   "source": [
    "print(int(input('Enter a number to generate cube of it:'))**3)"
   ]
  },
  {
   "cell_type": "markdown",
   "id": "5fffd621-f4ca-4597-a57c-cb8de277db2f",
   "metadata": {},
   "source": [
    "#### 37. How would you accept and store multiple names from the user?\n",
    "```\n",
    "There are multiple ways:\n",
    "\n",
    "1. Ask user to enter names separate by commas (,), which we can split string by commas(,) and store as list\n",
    "2. Ask user to enter names one after another and ask user before proceeing to enter another name to store it in list. \n"
   ]
  },
  {
   "cell_type": "code",
   "execution_count": 259,
   "id": "5df5052a-8523-4b54-8381-31704f2b4860",
   "metadata": {},
   "outputs": [
    {
     "name": "stdin",
     "output_type": "stream",
     "text": [
      "Enter names separate by comma(,) : Ravi,mahesh,krish,deepu, ashok\n"
     ]
    },
    {
     "name": "stdout",
     "output_type": "stream",
     "text": [
      "Given String of names :  Ravi,mahesh,krish,deepu, ashok\n",
      "Names identified from given string:\n",
      "Ravi\n",
      "mahesh\n",
      "krish\n",
      "deepu\n",
      "ashok\n"
     ]
    }
   ],
   "source": [
    "#Option 1: User enter multiple names in a string\n",
    "input_string_of_names = input('Enter names separate by comma(,) :')\n",
    "input_names_list = input_string_of_names.split(',')\n",
    "\n",
    "print('Given String of names : ',input_string_of_names)\n",
    "print('Names identified from given string:')\n",
    "for name in input_names_list:\n",
    "    print(name.strip()) "
   ]
  },
  {
   "cell_type": "code",
   "execution_count": 261,
   "id": "9e779801-719d-4925-a3ec-29e26b11eb8a",
   "metadata": {},
   "outputs": [
    {
     "name": "stdin",
     "output_type": "stream",
     "text": [
      "Enter name : Ravi\n",
      "Want to add another name (Y-Yes,N-No): Y\n",
      "Enter name : Kishore\n",
      "Want to add another name (Y-Yes,N-No): Y\n",
      "Enter name : Munni\n",
      "Want to add another name (Y-Yes,N-No): Y\n",
      "Enter name : Victor\n",
      "Want to add another name (Y-Yes,N-No): N\n"
     ]
    },
    {
     "name": "stdout",
     "output_type": "stream",
     "text": [
      "Names captured:\n",
      "Ravi\n",
      "Kishore\n",
      "Munni\n",
      "Victor\n"
     ]
    }
   ],
   "source": [
    "#Option 2: User enter names one after another with acknowledgement \n",
    "\n",
    "ready_to_input = True \n",
    "list_of_names = [] \n",
    "while ready_to_input :\n",
    "     list_of_names.append(input('Enter name :'))\n",
    "     if (input('Want to add another name (Y-Yes,N-No):').upper() != 'Y'):\n",
    "        break\n",
    "print('Names captured:')\n",
    "for name in list_of_names:\n",
    "    print(name.strip()) "
   ]
  },
  {
   "cell_type": "markdown",
   "id": "473bbbde-ac1f-4a9f-926c-c0e0801e3db6",
   "metadata": {},
   "source": [
    "#### 38. How would you extract numbers from a string entered by the user?\n"
   ]
  },
  {
   "cell_type": "code",
   "execution_count": 275,
   "id": "4afa9cd6-b1fa-41d4-a50f-8b577fac0874",
   "metadata": {},
   "outputs": [
    {
     "name": "stdin",
     "output_type": "stream",
     "text": [
      "Enter comma separated values list  10,49,50,51,53\n"
     ]
    },
    {
     "data": {
      "text/plain": [
       "[10, 49, 50, 51, 53]"
      ]
     },
     "execution_count": 275,
     "metadata": {},
     "output_type": "execute_result"
    }
   ],
   "source": [
    "user_input_list2 = input('Enter comma separated values list ')\n",
    "input_list=[]\n",
    "for inp in user_input_list2.split(','):\n",
    "    input_list.append(int(inp))\n",
    "\n",
    "input_list"
   ]
  },
  {
   "cell_type": "markdown",
   "id": "eb38746d-8bb3-4b68-ae83-3af186a09570",
   "metadata": {},
   "source": [
    "#### 39. How do you find the maximum number from a list of integers entered by the user?\n"
   ]
  },
  {
   "cell_type": "code",
   "execution_count": 270,
   "id": "2311be5c-dc5a-4fb9-b0fe-ce696b0271de",
   "metadata": {},
   "outputs": [
    {
     "name": "stdin",
     "output_type": "stream",
     "text": [
      "Enter comma separated values list  10,49,50,51,53\n"
     ]
    },
    {
     "data": {
      "text/plain": [
       "('10,49,50,51,53', str, '53')"
      ]
     },
     "execution_count": 270,
     "metadata": {},
     "output_type": "execute_result"
    }
   ],
   "source": [
    "user_input_list2 = input('Enter comma separated values list ')\n",
    "user_input_list2, type(user_input_list2), max(user_input_list2.split(','))\n"
   ]
  },
  {
   "cell_type": "markdown",
   "id": "550c3f32-796a-42ed-9c57-f86c6e3a1765",
   "metadata": {},
   "source": [
    "#### 40. How would you prompt the user for input until they enter a valid number?\n"
   ]
  },
  {
   "cell_type": "code",
   "execution_count": 288,
   "id": "c22d61a7-f917-450e-a13e-5914f50244f0",
   "metadata": {},
   "outputs": [
    {
     "name": "stdin",
     "output_type": "stream",
     "text": [
      "Enter a number : 5c\n"
     ]
    },
    {
     "name": "stdout",
     "output_type": "stream",
     "text": [
      "Incorrect number entered\n"
     ]
    },
    {
     "name": "stdin",
     "output_type": "stream",
     "text": [
      "Enter a number : 5d\n"
     ]
    },
    {
     "name": "stdout",
     "output_type": "stream",
     "text": [
      "Incorrect number entered\n"
     ]
    },
    {
     "name": "stdin",
     "output_type": "stream",
     "text": [
      "Enter a number : 6a\n"
     ]
    },
    {
     "name": "stdout",
     "output_type": "stream",
     "text": [
      "Incorrect number entered\n"
     ]
    },
    {
     "name": "stdin",
     "output_type": "stream",
     "text": [
      "Enter a number : 6oo\n"
     ]
    },
    {
     "name": "stdout",
     "output_type": "stream",
     "text": [
      "Incorrect number entered\n"
     ]
    },
    {
     "name": "stdin",
     "output_type": "stream",
     "text": [
      "Enter a number : 600\n"
     ]
    },
    {
     "name": "stdout",
     "output_type": "stream",
     "text": [
      "you have entered valid number 600\n"
     ]
    }
   ],
   "source": [
    "while True: \n",
    "    input_val = input('Enter a number :') \n",
    "    if ((len(input_val)>0) and (input_val.isdigit())):\n",
    "        break; \n",
    "    else:\n",
    "        print('Incorrect number entered')\n",
    "        continue\n",
    "print(f'you have entered valid number {input_val}')"
   ]
  },
  {
   "cell_type": "markdown",
   "id": "941af105-93b5-40d5-9308-07f75b65c7b0",
   "metadata": {},
   "source": [
    "#### 41. Write a program to check if the entered string has digits.\n"
   ]
  },
  {
   "cell_type": "code",
   "execution_count": 321,
   "id": "0197f9dd-c87d-4f64-9931-f76b75cacab6",
   "metadata": {},
   "outputs": [
    {
     "name": "stdin",
     "output_type": "stream",
     "text": [
      "Enter a string : beyond 2025\n"
     ]
    },
    {
     "name": "stdout",
     "output_type": "stream",
     "text": [
      "given value \"beyond 2025\" has digits\n"
     ]
    }
   ],
   "source": [
    "input_val_alphanumeric = input('Enter a string :') \n",
    "has_digits = False \n",
    "\n",
    "for s in input_val_alphanumeric :\n",
    "    if ( s.isdigit() == True ):\n",
    "        has_digits = True \n",
    "        break\n",
    "\n",
    "if (has_digits == True): \n",
    "    print(f'given value \"{input_val_alphanumeric}\" has digits')\n",
    "else:\n",
    "    print(f'given value \"{input_val_alphanumeric}\" has no digits') "
   ]
  },
  {
   "cell_type": "markdown",
   "id": "2cab1354-2cb8-4c56-a20b-7d7cd7c305ad",
   "metadata": {},
   "source": [
    "#### 42. Write a program to check if the entered string has only whitespace characters.\n"
   ]
  },
  {
   "cell_type": "code",
   "execution_count": 309,
   "id": "934011d3-5005-4baf-b918-91c6aec64b02",
   "metadata": {},
   "outputs": [
    {
     "name": "stdin",
     "output_type": "stream",
     "text": [
      "Enter a string :          \n"
     ]
    },
    {
     "name": "stdout",
     "output_type": "stream",
     "text": [
      "string           has only whitespace characters\n"
     ]
    }
   ],
   "source": [
    "input_str_for_whitespace_chk = input('Enter a string :') \n",
    "if (len(input_str_for_whitespace_chk.strip())==0):\n",
    "    print(f'string {input_str_for_whitespace_chk} has only whitespace characters')\n",
    "else:\n",
    "    print(f'string {input_str_for_whitespace_chk} has printable characters also')"
   ]
  },
  {
   "cell_type": "markdown",
   "id": "73682f28-1b72-4dee-9c29-9c623832f051",
   "metadata": {},
   "source": [
    "#### 43. Write a program to find the sum of all digits in a string entered by the user."
   ]
  },
  {
   "cell_type": "code",
   "execution_count": 280,
   "id": "ac1e3cfd-2445-42e5-bc3e-7111835f5203",
   "metadata": {},
   "outputs": [
    {
     "name": "stdin",
     "output_type": "stream",
     "text": [
      "Enter comma separated values list  10,20,30,40\n"
     ]
    },
    {
     "name": "stdout",
     "output_type": "stream",
     "text": [
      "Given list of values : ['10', '20', '30', '40']\n",
      "Sum of values: 100\n"
     ]
    }
   ],
   "source": [
    "user_input_list3 = input('Enter comma separated values list ')\n",
    "sum_of_values=0\n",
    "for inp in user_input_list3.split(','):\n",
    "    sum_of_values+=int(inp)\n",
    "\n",
    "print('Given list of values :',user_input_list3.split(','))\n",
    "print('Sum of values:',sum_of_values)"
   ]
  },
  {
   "cell_type": "markdown",
   "id": "3dcb9fe9-5328-4b80-a2c5-3f79982e53dc",
   "metadata": {},
   "source": [
    "#### 44. Write a program that accepts a number and prints its absolute value.\n"
   ]
  },
  {
   "cell_type": "code",
   "execution_count": 286,
   "id": "e99a80cc-fb98-4538-b4d9-321d98305457",
   "metadata": {},
   "outputs": [
    {
     "name": "stdin",
     "output_type": "stream",
     "text": [
      "Enter value to find absolute value -10\n"
     ]
    },
    {
     "name": "stdout",
     "output_type": "stream",
     "text": [
      "given value -10. Absolute value = 10\n"
     ]
    }
   ],
   "source": [
    "input_for_abs_value=int(input('Enter value to find absolute value'))\n",
    "print(f'given value {input_for_abs_value}. Absolute value = {abs(input_for_abs_value)}')"
   ]
  },
  {
   "cell_type": "markdown",
   "id": "5cbddb79-4b93-4b8b-8146-a8e650559702",
   "metadata": {},
   "source": [
    "#### 45. How would you check if a string entered by the user contains any uppercase letters?\n"
   ]
  },
  {
   "cell_type": "code",
   "execution_count": 316,
   "id": "ccd573bf-eac9-4c08-9d00-b795bb01354a",
   "metadata": {},
   "outputs": [
    {
     "name": "stdin",
     "output_type": "stream",
     "text": [
      "Enter a string value notorious\n"
     ]
    },
    {
     "name": "stdout",
     "output_type": "stream",
     "text": [
      "given notorious has no uppercase letters\n"
     ]
    }
   ],
   "source": [
    "input_str_to_check_upper = input('Enter a string value')\n",
    "has_upper_letter = False\n",
    "for ch in input_str_to_check_upper:\n",
    "    if ( ch.isupper() == True ):\n",
    "        has_upper_letter = True\n",
    "        break\n",
    "    else:\n",
    "        has_upper_letter = False\n",
    "if (has_upper_letter == True) :\n",
    "    print(f'given {input_str_to_check_upper} has uppercase letters')\n",
    "else:\n",
    "    print(f'given {input_str_to_check_upper} has no uppercase letters')"
   ]
  },
  {
   "cell_type": "markdown",
   "id": "fd9d338f-d64f-44f1-9cb1-bfbee5439ec0",
   "metadata": {},
   "source": [
    "#### 46. Write a program that converts Celsius to Fahrenheit.\n",
    "\n",
    "Refer following notes on how to convert Celcius to Fahrenheit :\n",
    "<a href = https://www.thoughtco.com/celcius-to-farenheit-formula-609227> Celcius to Fahrenheit Conversion </a>"
   ]
  },
  {
   "cell_type": "code",
   "execution_count": 337,
   "id": "0402df0a-6150-4497-9309-e139714fbc0f",
   "metadata": {},
   "outputs": [
    {
     "name": "stdin",
     "output_type": "stream",
     "text": [
      "Enter current temparature in Celsius : 10\n"
     ]
    },
    {
     "name": "stdout",
     "output_type": "stream",
     "text": [
      "Result :\n",
      " Given Temparature in Celsius : 10\n",
      " Converted temparature in Fahrenheit = 50.0\n"
     ]
    }
   ],
   "source": [
    "input_temp_in_celcius = int(input('Enter current temparature in Celsius :'))\n",
    "var_temp_in_celcius=(input_temp_in_celcius*(9/5)+32)\n",
    "print(f'Result :\\n Given Temparature in Celsius : {input_temp_in_celcius}\\n Converted temparature in Fahrenheit = {var_temp_in_celcius}')"
   ]
  },
  {
   "cell_type": "markdown",
   "id": "a1432533-963c-4e72-965a-bfe8302b7a1d",
   "metadata": {},
   "source": [
    "#### 47. Write a program to find the average of a list of numbers entered by the user.\n"
   ]
  },
  {
   "cell_type": "code",
   "execution_count": 287,
   "id": "77f7f24c-909e-4bfb-be3a-e6c62caa906c",
   "metadata": {},
   "outputs": [
    {
     "name": "stdin",
     "output_type": "stream",
     "text": [
      "Enter comma separated values list  10,20,30,40\n"
     ]
    },
    {
     "name": "stdout",
     "output_type": "stream",
     "text": [
      "Given list of values : ['10', '20', '30', '40']\n",
      "Sum of values: 100\n",
      "Average of values: 25.0\n"
     ]
    }
   ],
   "source": [
    "user_input_list4 = input('Enter comma separated values list ')\n",
    "sum_of_values2=0\n",
    "for inp in user_input_list4.split(','):\n",
    "    sum_of_values2+=int(inp)\n",
    "\n",
    "print('Given list of values :',user_input_list4.split(','))\n",
    "print('Sum of values:',sum_of_values2)\n",
    "print('Average of values:',sum_of_values2/len(user_input_list4.split(',')))"
   ]
  },
  {
   "cell_type": "markdown",
   "id": "68578760-0fd2-41d8-8285-3e9bab1671ce",
   "metadata": {},
   "source": [
    "#### 48. Write a program to count the number of consonants in a string entered by the user.\n"
   ]
  },
  {
   "cell_type": "code",
   "execution_count": 278,
   "id": "c17abf47-ce25-4dee-86c9-7117b9d94ab9",
   "metadata": {},
   "outputs": [
    {
     "name": "stdin",
     "output_type": "stream",
     "text": [
      "Enter a string string entered by the user\n"
     ]
    },
    {
     "name": "stdout",
     "output_type": "stream",
     "text": [
      " Total 19 consonents found in given string \"string entered by the user\"\n"
     ]
    }
   ],
   "source": [
    "input_str_to_count_consonents = input('Enter a string')\n",
    "cons_count=0\n",
    "for c in input_str_to_count_consonents:\n",
    "    if ( c.upper() not in ('A','E','I','O','U')):\n",
    "        cons_count +=1\n",
    "print (f' Total {cons_count} consonents found in given string \"{input_str_to_count_consonents}\"')"
   ]
  },
  {
   "cell_type": "markdown",
   "id": "f922ae1f-9f00-43b1-967c-1099b48dfcb2",
   "metadata": {},
   "source": [
    "#### 49. How do you check if a string entered by the user contains any punctuation?\n",
    "``` python\n",
    "    puntuations are special symbols that we use commonly in writing. \n",
    "    Few examples: punctuation = `'!\"#$%&\\'()*+,-./:;<=>?@[\\\\]^_`{|}~'`   \n",
    "```"
   ]
  },
  {
   "cell_type": "code",
   "execution_count": 335,
   "id": "9fc0ea9f-954d-4fae-b1b3-3d46298922e6",
   "metadata": {},
   "outputs": [
    {
     "name": "stdin",
     "output_type": "stream",
     "text": [
      "Enter a string to count punctuations How are you ? hope all good ! welcome to $$$ mania.\n"
     ]
    },
    {
     "name": "stdout",
     "output_type": "stream",
     "text": [
      "Results - \n",
      "Total 6 punctuations found in given string : How are you ? hope all good ! welcome to $$$ mania.\n"
     ]
    }
   ],
   "source": [
    "import string  # string class another class with additional functionality. check help(string) for methods and members. \n",
    "\n",
    "puctuation_count = 0 \n",
    "is_punctuations_exists = False\n",
    "input_str_to_count_punctuations = input('Enter a string to count punctuations')\n",
    "for ch in input_str_to_count_punctuations:\n",
    "        if (ch in string.punctuation):\n",
    "            puctuation_count +=1\n",
    "            is_punctuations_exists = True\n",
    "\n",
    "print(f'Results - ') \n",
    "#print(f'Given String : {input_str_to_count_punctuations}') \n",
    "if is_punctuations_exists : \n",
    "    print(f'Total {puctuation_count} punctuations found in given string : {input_str_to_count_punctuations}') \n",
    "else:\n",
    "    print(f'No punctuations found in given string : {input_str_to_count_punctuations}') \n",
    "            \n",
    "    "
   ]
  },
  {
   "cell_type": "markdown",
   "id": "a79f5d50-40af-4668-a606-0dcac3b7ff6f",
   "metadata": {},
   "source": [
    "#### 50. Write a program that accepts a sentence and prints the longest word"
   ]
  },
  {
   "cell_type": "code",
   "execution_count": 327,
   "id": "d05bd5f0-11e9-43ef-9ac2-9b38e6bb3717",
   "metadata": {},
   "outputs": [
    {
     "name": "stdin",
     "output_type": "stream",
     "text": [
      "Enter a sentence Write a program to count the number of consonants in a string entered by the user. How do you check if a string entered by the user contains any punctuation?\n"
     ]
    },
    {
     "name": "stdout",
     "output_type": "stream",
     "text": [
      "Results : \n",
      "Given string :Write a program to count the number of consonants in a string entered by the user. How do you check if a string entered by the user contains any punctuation?\n",
      "Given string words :['Write', 'a', 'program', 'to', 'count', 'the', 'number', 'of', 'consonants', 'in', 'a', 'string', 'entered', 'by', 'the', 'user.', 'How', 'do', 'you', 'check', 'if', 'a', 'string', 'entered', 'by', 'the', 'user', 'contains', 'any', 'punctuation?']\n",
      "Longest word punctuation? in sentense has length of 12\n"
     ]
    }
   ],
   "source": [
    "input_a_sentence = input('Enter a sentence') \n",
    "input_sentence_words = input_a_sentence.split(' ')\n",
    "longest_word_at_pos = -1 \n",
    "longest_word_len = -1 \n",
    "for idx,word in enumerate(input_sentence_words):\n",
    "    if ( len(word) > longest_word_len ):\n",
    "            longest_word_len = len(word)\n",
    "            longest_word_at_pos = idx\n",
    "\n",
    "if (longest_word_at_pos != -1):\n",
    "    print('Results : ')\n",
    "    print(f'Given string :{input_a_sentence}')\n",
    "    print(f'Given string words :{input_sentence_words}')\n",
    "    print(f'Longest word \"{input_sentence_words[longest_word_at_pos]}\" in sentense has length of {longest_word_len}')\n",
    "\n",
    "        "
   ]
  },
  {
   "cell_type": "code",
   "execution_count": null,
   "id": "79dd5dde-d1fd-4694-beb6-853a89e2f922",
   "metadata": {},
   "outputs": [],
   "source": []
  }
 ],
 "metadata": {
  "kernelspec": {
   "display_name": "Python 3 (ipykernel)",
   "language": "python",
   "name": "python3"
  },
  "language_info": {
   "codemirror_mode": {
    "name": "ipython",
    "version": 3
   },
   "file_extension": ".py",
   "mimetype": "text/x-python",
   "name": "python",
   "nbconvert_exporter": "python",
   "pygments_lexer": "ipython3",
   "version": "3.12.7"
  }
 },
 "nbformat": 4,
 "nbformat_minor": 5
}
